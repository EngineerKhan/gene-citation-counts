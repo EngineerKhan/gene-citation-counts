{
 "cells": [
  {
   "cell_type": "code",
   "execution_count": 36,
   "metadata": {},
   "outputs": [
    {
     "name": "stdout",
     "output_type": "stream",
     "text": [
      "The autoreload extension is already loaded. To reload it, use:\n",
      "  %reload_ext autoreload\n",
      "Populating the interactive namespace from numpy and matplotlib\n"
     ]
    },
    {
     "name": "stderr",
     "output_type": "stream",
     "text": [
      "/Users/pkerp/.virtualenvs/stuff/lib/python2.7/site-packages/IPython/core/magics/pylab.py:161: UserWarning: pylab import has clobbered these variables: ['f']\n",
      "`%matplotlib` prevents importing * from pylab and numpy\n",
      "  \"\\n`%matplotlib` prevents importing * from pylab and numpy\"\n"
     ]
    },
    {
     "ename": "ValueError",
     "evalue": "Cannot run multiple SparkContexts at once; existing SparkContext(app=pyspark-shell, master=local[*]) created by __init__ at <ipython-input-1-04367661b21a>:11 ",
     "output_type": "error",
     "traceback": [
      "\u001b[0;31m---------------------------------------------------------------------------\u001b[0m",
      "\u001b[0;31mValueError\u001b[0m                                Traceback (most recent call last)",
      "\u001b[0;32m<ipython-input-36-04367661b21a>\u001b[0m in \u001b[0;36m<module>\u001b[0;34m()\u001b[0m\n\u001b[1;32m      9\u001b[0m \u001b[0;34m\u001b[0m\u001b[0m\n\u001b[1;32m     10\u001b[0m \u001b[0;32mimport\u001b[0m \u001b[0mpyspark\u001b[0m\u001b[0;34m\u001b[0m\u001b[0m\n\u001b[0;32m---> 11\u001b[0;31m \u001b[0msc\u001b[0m \u001b[0;34m=\u001b[0m \u001b[0mpyspark\u001b[0m\u001b[0;34m.\u001b[0m\u001b[0mSparkContext\u001b[0m\u001b[0;34m(\u001b[0m\u001b[0;34m)\u001b[0m\u001b[0;34m\u001b[0m\u001b[0m\n\u001b[0m",
      "\u001b[0;32m/usr/local/opt/apache-spark/libexec/python/pyspark/context.pyc\u001b[0m in \u001b[0;36m__init__\u001b[0;34m(self, master, appName, sparkHome, pyFiles, environment, batchSize, serializer, conf, gateway, jsc, profiler_cls)\u001b[0m\n\u001b[1;32m    113\u001b[0m         \"\"\"\n\u001b[1;32m    114\u001b[0m         \u001b[0mself\u001b[0m\u001b[0;34m.\u001b[0m\u001b[0m_callsite\u001b[0m \u001b[0;34m=\u001b[0m \u001b[0mfirst_spark_call\u001b[0m\u001b[0;34m(\u001b[0m\u001b[0;34m)\u001b[0m \u001b[0;32mor\u001b[0m \u001b[0mCallSite\u001b[0m\u001b[0;34m(\u001b[0m\u001b[0mNone\u001b[0m\u001b[0;34m,\u001b[0m \u001b[0mNone\u001b[0m\u001b[0;34m,\u001b[0m \u001b[0mNone\u001b[0m\u001b[0;34m)\u001b[0m\u001b[0;34m\u001b[0m\u001b[0m\n\u001b[0;32m--> 115\u001b[0;31m         \u001b[0mSparkContext\u001b[0m\u001b[0;34m.\u001b[0m\u001b[0m_ensure_initialized\u001b[0m\u001b[0;34m(\u001b[0m\u001b[0mself\u001b[0m\u001b[0;34m,\u001b[0m \u001b[0mgateway\u001b[0m\u001b[0;34m=\u001b[0m\u001b[0mgateway\u001b[0m\u001b[0;34m,\u001b[0m \u001b[0mconf\u001b[0m\u001b[0;34m=\u001b[0m\u001b[0mconf\u001b[0m\u001b[0;34m)\u001b[0m\u001b[0;34m\u001b[0m\u001b[0m\n\u001b[0m\u001b[1;32m    116\u001b[0m         \u001b[0;32mtry\u001b[0m\u001b[0;34m:\u001b[0m\u001b[0;34m\u001b[0m\u001b[0m\n\u001b[1;32m    117\u001b[0m             self._do_init(master, appName, sparkHome, pyFiles, environment, batchSize, serializer,\n",
      "\u001b[0;32m/usr/local/opt/apache-spark/libexec/python/pyspark/context.pyc\u001b[0m in \u001b[0;36m_ensure_initialized\u001b[0;34m(cls, instance, gateway, conf)\u001b[0m\n\u001b[1;32m    273\u001b[0m                         \u001b[0;34m\" created by %s at %s:%s \"\u001b[0m\u001b[0;34m\u001b[0m\u001b[0m\n\u001b[1;32m    274\u001b[0m                         % (currentAppName, currentMaster,\n\u001b[0;32m--> 275\u001b[0;31m                             callsite.function, callsite.file, callsite.linenum))\n\u001b[0m\u001b[1;32m    276\u001b[0m                 \u001b[0;32melse\u001b[0m\u001b[0;34m:\u001b[0m\u001b[0;34m\u001b[0m\u001b[0m\n\u001b[1;32m    277\u001b[0m                     \u001b[0mSparkContext\u001b[0m\u001b[0;34m.\u001b[0m\u001b[0m_active_spark_context\u001b[0m \u001b[0;34m=\u001b[0m \u001b[0minstance\u001b[0m\u001b[0;34m\u001b[0m\u001b[0m\n",
      "\u001b[0;31mValueError\u001b[0m: Cannot run multiple SparkContexts at once; existing SparkContext(app=pyspark-shell, master=local[*]) created by __init__ at <ipython-input-1-04367661b21a>:11 "
     ]
    }
   ],
   "source": [
    "%load_ext autoreload\n",
    "%autoreload 2\n",
    "%pylab inline\n",
    "\n",
    "import os.path as op\n",
    "import findspark\n",
    "import os\n",
    "findspark.init()\n",
    "\n",
    "import pyspark\n",
    "sc = pyspark.SparkContext()"
   ]
  },
  {
   "cell_type": "code",
   "execution_count": 87,
   "metadata": {},
   "outputs": [
    {
     "data": {
      "text/plain": [
       "'PrJ9mN8MomRmLASZNa65qe'"
      ]
     },
     "execution_count": 87,
     "metadata": {},
     "output_type": "execute_result"
    }
   ],
   "source": [
    "import shortuuid\n",
    "shortuuid.uuid()"
   ]
  },
  {
   "cell_type": "markdown",
   "metadata": {},
   "source": [
    "## Utility functions"
   ]
  },
  {
   "cell_type": "code",
   "execution_count": 88,
   "metadata": {
    "collapsed": true
   },
   "outputs": [],
   "source": [
    "assembly = 'hg19'"
   ]
  },
  {
   "cell_type": "code",
   "execution_count": 89,
   "metadata": {
    "collapsed": true
   },
   "outputs": [],
   "source": [
    "data_dir = op.expanduser(\"~/data\")\n",
    "output_dir = op.join(data_dir, assembly)   # where all of the intermediate output will be stored\n",
    "base_ucsc_dir = op.join(data_dir, 'ucsc-data/{}'.format(assembly))  # where all of the files downloaded from UCSC will be stored\n",
    "\n",
    "import shutil\n",
    "\n",
    "# create a directory to store intermediate output files\n",
    "def get_outfile(table_name):\n",
    "    outfile = op.join(output_dir, 'genbank-output/{}'.format(table_name))\n",
    "    if op.exists(outfile):\n",
    "        shutil.rmtree(outfile)\n",
    "    return outfile"
   ]
  },
  {
   "cell_type": "markdown",
   "metadata": {},
   "source": [
    "## Load the chromosome lengths"
   ]
  },
  {
   "cell_type": "code",
   "execution_count": 90,
   "metadata": {},
   "outputs": [
    {
     "name": "stdout",
     "output_type": "stream",
     "text": [
      "0 249250621 492449994\n"
     ]
    }
   ],
   "source": [
    "#wget http://hgdownload.cse.ucsc.edu/goldenpath/hg19/database/chromInfo.txt.gz\n",
    "#mv chromInfo.txt.gz ~/data/ucsc-data/hg19/\n",
    "\n",
    "def get_chrom_lengths(base_dir):\n",
    "    '''\n",
    "    Get the cumulative start positions for the chromosomes in an assembly. The chromosomes\n",
    "    will be sorted alphabetically by their names.\n",
    "    \n",
    "    :param base_dir: A directory containing meta data about a genome assembly\n",
    "    :return: A dictionary of the from { 'chr2': 234323432 }, showing at which position\n",
    "             chromosomes start.\n",
    "    '''\n",
    "    chromLengths = (sc.textFile(op.join(base_dir, 'chromInfo.txt.gz'))\n",
    "                    .map(lambda x: x.split('\\t'))\n",
    "                    .map(lambda x: {'chrom': x[0], 'length': int(x[1]) })\n",
    "                    .collect())\n",
    "    \n",
    "    cum_chrom_lengths = {}\n",
    "    curr_cum_lengths = 0\n",
    "    \n",
    "    for x in sorted(chromLengths, key=lambda x: -x['length']):\n",
    "        cum_chrom_lengths[x['chrom']] = curr_cum_lengths\n",
    "        curr_cum_lengths += x['length']\n",
    "        \n",
    "    return cum_chrom_lengths\n",
    "\n",
    "cum_chrom_lengths = get_chrom_lengths(base_ucsc_dir)\n",
    "\n",
    "print cum_chrom_lengths['chr1'], cum_chrom_lengths['chr2'], cum_chrom_lengths['chr3']"
   ]
  },
  {
   "cell_type": "markdown",
   "metadata": {},
   "source": [
    "## Loading the refgene data"
   ]
  },
  {
   "cell_type": "code",
   "execution_count": 91,
   "metadata": {
    "collapsed": true
   },
   "outputs": [],
   "source": [
    "base_dir=op.expanduser(\"~/data/genbank-data/hg19\")"
   ]
  },
  {
   "cell_type": "code",
   "execution_count": 92,
   "metadata": {},
   "outputs": [
    {
     "name": "stdout",
     "output_type": "stream",
     "text": [
      "[((9606, 1), 2591067)]\n",
      "time taken 10.4018189907\n"
     ]
    }
   ],
   "source": [
    "import time\n",
    "\n",
    "human_gene2pubmed = (sc.textFile(op.join(base_dir, \"human/human_gene2pubmed\"))\n",
    "                        .filter(lambda x: x[0] != '#')\n",
    "                        .map(lambda x: x.split('\\t'))\n",
    "                        .map(lambda x: ((int(x[0]), int(x[1])), int(x[2])))\n",
    "                     )\n",
    "print human_gene2pubmed.take(1)\n",
    "\n",
    "t1 = time.time()\n",
    "pubmeds_set = set([x[1] for x in human_gene2pubmed.collect()])\n",
    "t2 = time.time()\n",
    "print \"time taken\", t2 - t1"
   ]
  },
  {
   "cell_type": "code",
   "execution_count": 93,
   "metadata": {
    "collapsed": true
   },
   "outputs": [],
   "source": [
    "from pyspark import SparkContext, SparkConf\n",
    "\n",
    "# wget http://hgdownload.cse.ucsc.edu/goldenpath/hg19/database/refGene.txt.gz\n",
    "# mv refGene.txt.gz ~/data/ucsc-data/\n",
    "def parse_exon_positions(exon_positions_str):\n",
    "    return map(int, exon_positions_str.strip(\",\").split(','))\n",
    "\n",
    "def load_refgene_data(base_dir):\n",
    "    '''\n",
    "    Load the UCSC refgene data for a particular assembly.\n",
    "    \n",
    "    :param base_dir: The directory which contains the refGene.txt.gz file.\n",
    "    '''\n",
    "    refGene = (sc.textFile(op.join(base_dir, 'refGene.txt.gz'))\n",
    "               .map(lambda x: x.split('\\t'))\n",
    "               .map(lambda x: {'name': x[1],\n",
    "                               'chrom': x[2],\n",
    "                               'strand': x[3],\n",
    "                               'txStart': x[4],\n",
    "                               'txEnd': x[5],\n",
    "                               'cdsStart': x[6],\n",
    "                               'cdsEnd': x[7],\n",
    "                               'exonCount': x[8],\n",
    "                               'exonStarts': x[9].strip(','),\n",
    "                               'exonEnds': x[10].strip(','),\n",
    "                               'chromOffset': cum_chrom_lengths[x[2]],\n",
    "                               'genomeTxStart': cum_chrom_lengths[x[2]] + int(x[4]),\n",
    "                               'genomeTxEnd': cum_chrom_lengths[x[2]] + int(x[5]),\n",
    "                               'geneName': x[12],\n",
    "                               'geneLength': int(x[5]) - int(x[4]),\n",
    "                               })\n",
    "               .filter(lambda x: x['chrom'].find('_') == -1)\n",
    "               .filter(lambda x: x['name'] )\n",
    "            )\n",
    "    \n",
    "    return refGene\n",
    "\n",
    "refGene = load_refgene_data(base_ucsc_dir)\n",
    "### add the genomic position\n",
    "refgene_dict = dict([(t['name'], t) for t in refGene.collect()])"
   ]
  },
  {
   "cell_type": "code",
   "execution_count": 94,
   "metadata": {},
   "outputs": [
    {
     "name": "stdout",
     "output_type": "stream",
     "text": [
      "refgene length: 63539\n"
     ]
    },
    {
     "data": {
      "text/plain": [
       "[u'NM_001003806',\n",
       " u'NM_001253387',\n",
       " u'NM_001003805',\n",
       " u'NM_001003802',\n",
       " u'NM_001003803',\n",
       " u'NM_001003800',\n",
       " u'NM_001003801',\n",
       " u'NM_001168531',\n",
       " u'NM_001003809',\n",
       " u'NM_001304464']"
      ]
     },
     "execution_count": 94,
     "metadata": {},
     "output_type": "execute_result"
    }
   ],
   "source": [
    "print \"refgene length:\", len(refgene_dict)\n",
    "refgene_dict.keys()[:10]"
   ]
  },
  {
   "cell_type": "code",
   "execution_count": 95,
   "metadata": {},
   "outputs": [
    {
     "data": {
      "text/plain": [
       "[((9606, 1), (u'A1BG', u'alpha-1-B glycoprotein', u'protein-coding'))]"
      ]
     },
     "execution_count": 95,
     "metadata": {},
     "output_type": "execute_result"
    }
   ],
   "source": [
    "base_dir = op.join(data_dir, 'genbank-data/hg19')\n",
    "taxid_gene_info_human = (sc.textFile(op.join(base_dir, 'human/human_gene_info'))\n",
    "                   .filter(lambda x: x[0] != '#')\n",
    "                   .map(lambda x: x.split('\\t'))\n",
    "                   .filter(lambda x: x[0] == \"9606\")\n",
    "                   .map(lambda x: ((int(x[0]), int(x[1])),(x[2], x[8], x[9])))\n",
    "                   )\n",
    "taxid_gene_info_human.take(1)"
   ]
  },
  {
   "cell_type": "code",
   "execution_count": 96,
   "metadata": {},
   "outputs": [
    {
     "data": {
      "text/plain": [
       "[((9606, 1), u'NM_130786')]"
      ]
     },
     "execution_count": 96,
     "metadata": {},
     "output_type": "execute_result"
    }
   ],
   "source": [
    "taxid_gene_refseq_id = (sc.textFile(op.join(base_dir, \"human/human_gene2refseq\"))\n",
    "                        .filter(lambda x: x[0] != '#')\n",
    "                        .map(lambda x: x.split('\\t'))\n",
    "                        .filter(lambda x: x[3].split('.')[0] in refgene_dict)\n",
    "                        .map(lambda x: ((int(x[0]), int(x[1])), (x[3].split('.')[0])))\n",
    "                        )\n",
    "taxid_gene_refseq_id.take(1)"
   ]
  },
  {
   "cell_type": "code",
   "execution_count": 97,
   "metadata": {},
   "outputs": [
    {
     "name": "stdout",
     "output_type": "stream",
     "text": [
      "time taken 8.58014893532\n"
     ]
    }
   ],
   "source": [
    "import time\n",
    "t1 = time.time()\n",
    "taxid_gene_info_refseq = taxid_gene_info_human.join(taxid_gene_refseq_id)\n",
    "\n",
    "t2 = time.time()\n",
    "print \"time taken\", t2 - t1"
   ]
  },
  {
   "cell_type": "markdown",
   "metadata": {},
   "source": []
  },
  {
   "cell_type": "code",
   "execution_count": 98,
   "metadata": {},
   "outputs": [
    {
     "data": {
      "text/plain": [
       "True"
      ]
     },
     "execution_count": 98,
     "metadata": {},
     "output_type": "execute_result"
    }
   ],
   "source": [
    "2069907  in pubmeds_set"
   ]
  },
  {
   "cell_type": "code",
   "execution_count": 99,
   "metadata": {},
   "outputs": [],
   "source": [
    "len(pubmeds_set)\n",
    "human_year_pmid = (sc.textFile(op.join(base_dir, 'recent_pmid_year.ssv'))\n",
    "                  .map(lambda x: x.split())\n",
    "                  .map(lambda x: (int(x[0]), int(x[1])))\n",
    "                  .filter(lambda x: x[1] in pubmeds_set))\n",
    "human_year_pmid_collected = human_year_pmid.collect()"
   ]
  },
  {
   "cell_type": "code",
   "execution_count": 100,
   "metadata": {
    "collapsed": true
   },
   "outputs": [],
   "source": [
    "pmid_year = dict([(x[1], x[0]) for x in human_year_pmid_collected])"
   ]
  },
  {
   "cell_type": "code",
   "execution_count": 101,
   "metadata": {},
   "outputs": [
    {
     "name": "stdout",
     "output_type": "stream",
     "text": [
      "[2007, 1975, 2007, 2010, 2006, 2002, 2007, 2007, 2011, 2015]\n"
     ]
    }
   ],
   "source": [
    "print([k for k in pmid_year.values()[:10]])"
   ]
  },
  {
   "cell_type": "code",
   "execution_count": 102,
   "metadata": {},
   "outputs": [
    {
     "data": {
      "text/plain": [
       "[((9606, 100847044, 16381832),\n",
       "  ((u'MIR5087', u'microRNA 5087', u'ncRNA'), 16381832))]"
      ]
     },
     "execution_count": 102,
     "metadata": {},
     "output_type": "execute_result"
    }
   ],
   "source": [
    "taxid_gene_info_pubmed = (taxid_gene_info_human.join(human_gene2pubmed)\n",
    "                    .filter(lambda x: x[1][1] in pmid_year)\n",
    "                                 .map(lambda x: ((x[0][0], x[0][1], x[1][1]), x[1])))\n",
    "taxid_gene_info_pubmed.take(1)        "
   ]
  },
  {
   "cell_type": "code",
   "execution_count": 103,
   "metadata": {},
   "outputs": [
    {
     "data": {
      "text/plain": [
       "[((9606, 7157), ((u'TP53', u'tumor protein p53', u'protein-coding'), 8253)),\n",
       " ((9606, 7124), ((u'TNF', u'tumor necrosis factor', u'protein-coding'), 5233)),\n",
       " ((9606, 1956),\n",
       "  ((u'EGFR', u'epidermal growth factor receptor', u'protein-coding'), 4525))]"
      ]
     },
     "execution_count": 103,
     "metadata": {},
     "output_type": "execute_result"
    }
   ],
   "source": [
    "# get total citation counts over all time for each taxid, gene_id combo\n",
    "gene_counts = sorted(taxid_gene_info_pubmed.map(lambda x: ((x[0][0], x[0][1]), (x[1][0], 1)))\n",
    ".reduceByKey(lambda x1, x2: (x1[0], x1[1] + x2[1]))\n",
    ".collect(), key=lambda x: -x[1][1])\n",
    "\n",
    "gene_counts[:3]"
   ]
  },
  {
   "cell_type": "code",
   "execution_count": 104,
   "metadata": {},
   "outputs": [
    {
     "name": "stdout",
     "output_type": "stream",
     "text": [
      "[((9606, 2932, 2015), ((u'GSK3B', u'glycogen synthase kinase 3 beta', u'protein-coding'), 74))]\n",
      "301224\n",
      "[((9606, 109864272, 2015), ((u'RNA28SN4', u'RNA, 28S ribosomal N4', u'rRNA'), 1))]\n"
     ]
    }
   ],
   "source": [
    "taxid_gene_info_year = (taxid_gene_info_pubmed.map(lambda x: ((x[0][0], x[0][1], pmid_year[x[1][1]]), x[1]))\n",
    "                        .map(lambda x: ((x[0][0], x[0][1], pmid_year[x[1][1]]), (x[1][0], 1)))\n",
    "                                 .reduceByKey(lambda x1, x2: (x1[0], x1[1] + x2[1])))\n",
    "print taxid_gene_info_year.take(1)\n",
    "print taxid_gene_info_year.count()\n",
    "print taxid_gene_info_year.filter(lambda x: x[1][0][2] == 'rRNA').take(1)"
   ]
  },
  {
   "cell_type": "code",
   "execution_count": 105,
   "metadata": {
    "collapsed": true
   },
   "outputs": [],
   "source": [
    "genes_per_year = dict(taxid_gene_info_pubmed.map(lambda x: ((pmid_year[x[1][1]], x[0][1]), 1))\n",
    " .reduceByKey(lambda x1,x2: x1+x2)\n",
    " .map(lambda x: (x[0][0], 1))\n",
    " .reduceByKey(lambda x1,x2: x1+x2)\n",
    " .collect())\n",
    "\n",
    "citations_per_year = dict((taxid_gene_info_pubmed.map(lambda x: (pmid_year[x[1][1]], 1))\n",
    "                      .reduceByKey(lambda x1,x2: x1+x2)\n",
    "                      .collect()))"
   ]
  },
  {
   "cell_type": "code",
   "execution_count": 106,
   "metadata": {
    "collapsed": true
   },
   "outputs": [],
   "source": [
    "citation_genes = sorted(taxid_gene_info_pubmed.map(lambda x: (x[1][1], 1))\n",
    " .reduceByKey(lambda x1, x2: x1 + x2)\n",
    " .collect(), key=lambda x: -x[1])"
   ]
  },
  {
   "cell_type": "code",
   "execution_count": 107,
   "metadata": {},
   "outputs": [
    {
     "data": {
      "text/plain": [
       "[(12477932, 19866),\n",
       " (15489334, 11521),\n",
       " (28514442, 10943),\n",
       " (14702039, 10306),\n",
       " (26186194, 7656),\n",
       " (16344560, 6597),\n",
       " (26496610, 5279),\n",
       " (25416956, 4387),\n",
       " (26344197, 3473),\n",
       " (18029348, 3323)]"
      ]
     },
     "execution_count": 107,
     "metadata": {},
     "output_type": "execute_result"
    }
   ],
   "source": [
    "print(citation_genes[:10])"
   ]
  },
  {
   "cell_type": "code",
   "execution_count": 108,
   "metadata": {},
   "outputs": [
    {
     "data": {
      "text/plain": [
       "[(u'pseudo', 10997),\n",
       " (u'biological-region', 10171),\n",
       " (u'tRNA', 818),\n",
       " (u'snoRNA', 1513),\n",
       " (u'snRNA', 211),\n",
       " (u'unknown', 1893),\n",
       " (u'protein-coding', 1142021),\n",
       " (u'scRNA', 16),\n",
       " (u'rRNA', 1483),\n",
       " (u'ncRNA', 31333),\n",
       " (u'other', 2589)]"
      ]
     },
     "execution_count": 108,
     "metadata": {},
     "output_type": "execute_result"
    }
   ],
   "source": [
    "gene_types_citations = (taxid_gene_info_pubmed.map(lambda x: (x[1][0][2], 1))\n",
    " .reduceByKey(lambda x1,x2: x1+x2)\n",
    " .collect()\n",
    ")\n",
    "print(gene_types_citations)"
   ]
  },
  {
   "cell_type": "code",
   "execution_count": 109,
   "metadata": {},
   "outputs": [
    {
     "name": "stdout",
     "output_type": "stream",
     "text": [
      "pseudo 5841\n",
      "unknown 1172\n",
      "biological-region 1597\n",
      "snoRNA 540\n",
      "snRNA 64\n",
      "tRNA 510\n",
      "protein-coding 19426\n",
      "scRNA 4\n",
      "rRNA 43\n",
      "ncRNA 5656\n",
      "other 739\n"
     ]
    }
   ],
   "source": [
    "gene_types_counts = (taxid_gene_info_pubmed.map(lambda x: ((x[1][0][2], x[0][1]),1))\n",
    " .reduceByKey(lambda x1,x2: x1+x2)\n",
    " .map(lambda x: (x[0][0], 1))\n",
    " .reduceByKey(lambda x1,x2: x1+x2)\n",
    " .collect())\n",
    "\n",
    "for gtc in gene_types_counts:\n",
    "    print gtc[0], gtc[1]\n"
   ]
  },
  {
   "cell_type": "code",
   "execution_count": null,
   "metadata": {
    "collapsed": true
   },
   "outputs": [],
   "source": [
    "string_values = (taxid_gene_info_year.map(lambda x: \"\\t\".join(map(str, \n",
    "                 [x[0][0], x[0][1], x[0][2], x[1][0][0], x[1][0][1], x[1][0][2], x[1][1]\n",
    "                 ])))\n",
    "                 .collect())\n",
    "with open('gene_info_by_year.tsv', 'w') as f:\n",
    "    for sv in string_values:\n",
    "        f.write(sv + \"\\n\")\n",
    "        "
   ]
  },
  {
   "cell_type": "code",
   "execution_count": 110,
   "metadata": {},
   "outputs": [
    {
     "data": {
      "image/png": "[encoded data removed]",
      "text/plain": [
       "<matplotlib.figure.Figure at 0x13153b610>"
      ]
     },
     "metadata": {},
     "output_type": "display_data"
    }
   ],
   "source": [
    "years = genes_per_year.keys()\n",
    "fig, ax = plt.subplots()\n",
    "ax.bar(years, [genes_per_year[y] for y in years])\n",
    "plt.xlabel(\"Year\")\n",
    "plt.ylabel(\"Genes referenced\")\n",
    "plt.savefig(\"genes_per_year.png\")"
   ]
  },
  {
   "cell_type": "code",
   "execution_count": 111,
   "metadata": {},
   "outputs": [
    {
     "data": {
      "image/png": "[encoded data removed]",
      "text/plain": [
       "<matplotlib.figure.Figure at 0x1173de0d0>"
      ]
     },
     "metadata": {},
     "output_type": "display_data"
    }
   ],
   "source": [
    "years = citations_per_year.keys()\n",
    "fig, ax = plt.subplots()\n",
    "ax.bar(years, [citations_per_year[y] for y in years])\n",
    "plt.xlabel(\"Year\")\n",
    "plt.ylabel(\"Citations mentioning genes\")\n",
    "plt.savefig(\"citations_per_year.png\")"
   ]
  },
  {
   "cell_type": "code",
   "execution_count": 112,
   "metadata": {
    "collapsed": true
   },
   "outputs": [],
   "source": []
  },
  {
   "cell_type": "markdown",
   "metadata": {},
   "source": [
    "# Finished creating gene_info_by_year"
   ]
  },
  {
   "cell_type": "code",
   "execution_count": 30,
   "metadata": {},
   "outputs": [
    {
     "name": "stdout",
     "output_type": "stream",
     "text": [
      "[((9606, 8604, 9722566), (((u'SLC25A12', u'solute carrier family 25 (aspartate/glutamate carrier), member 12', u'protein-coding'), u'NM_003705'), 9722566))]\n",
      "2457278\n"
     ]
    }
   ],
   "source": [
    "joined = (taxid_gene_info_refseq.join(human_gene2pubmed)\n",
    "                                 .filter(lambda x: x[1][1] in pmid_year)\n",
    "                                 .map(lambda x: ((x[0][0], x[0][1], x[1][1]), x[1])))\n",
    "print joined.take(1)\n",
    "print joined.count()"
   ]
  },
  {
   "cell_type": "code",
   "execution_count": 31,
   "metadata": {},
   "outputs": [
    {
     "data": {
      "text/plain": [
       "[((9606, 2475),\n",
       "  (((u'MTOR',\n",
       "     u'mechanistic target of rapamycin (serine/threonine kinase)',\n",
       "     u'protein-coding'),\n",
       "    u'NM_004958'),\n",
       "   20038818)),\n",
       " ((9606, 414332),\n",
       "  (((u'LCN10', u'lipocalin 10', u'protein-coding'), u'NM_001001712'),\n",
       "   14702039)),\n",
       " ((9606, 3356),\n",
       "  (((u'HTR2A',\n",
       "     u'5-hydroxytryptamine (serotonin) receptor 2A, G protein-coupled',\n",
       "     u'protein-coding'),\n",
       "    u'NM_000621'),\n",
       "   24257701)),\n",
       " ((9606, 161835),\n",
       "  (((u'FSIP1', u'fibrous sheath interacting protein 1', u'protein-coding'),\n",
       "    u'NM_152597'),\n",
       "   20379614)),\n",
       " ((9606, 4318),\n",
       "  (((u'MMP9',\n",
       "     u'matrix metallopeptidase 9 (gelatinase B, 92kDa gelatinase, 92kDa type IV collagenase)',\n",
       "     u'protein-coding'),\n",
       "    u'NM_004994'),\n",
       "   19383343))]"
      ]
     },
     "execution_count": 31,
     "metadata": {},
     "output_type": "execute_result"
    }
   ],
   "source": [
    "rjoined = (joined.reduceByKey(lambda x1, x2: x1)\n",
    "                 .map(lambda x: ((x[0][0], x[0][1]), x[1]))\n",
    "           )\n",
    "rjoined.take(5)"
   ]
  },
  {
   "cell_type": "code",
   "execution_count": 34,
   "metadata": {},
   "outputs": [
    {
     "name": "stdout",
     "output_type": "stream",
     "text": [
      "[((9606, 6597, 1996), (((u'SMARCA4', u'SWI/SNF related, matrix associated, actin dependent regulator of chromatin, subfamily a, member 4', u'protein-coding'), u'NM_001128844'), 5))]\n",
      "time: 14.0963561535\n"
     ]
    }
   ],
   "source": [
    "taxid_gene_info_refseq_pubmed = (rjoined\n",
    "                                 .map(lambda x: ((x[0][0], x[0][1], pmid_year[x[1][1]]), (x[1][0], 1)))\n",
    "                                 .reduceByKey(lambda x1, x2: (x1[0], x1[1] + x2[1]))\n",
    "                                 )\n",
    "\n",
    "t1 = time.time()\n",
    "print taxid_gene_info_refseq_pubmed.take(1)\n",
    "taxid_gene_info_collected1 = taxid_gene_info_refseq_pubmed.collect()\n",
    "t2 = time.time()\n",
    "print \"time:\", t2 - t1"
   ]
  },
  {
   "cell_type": "code",
   "execution_count": 35,
   "metadata": {},
   "outputs": [],
   "source": [
    "with open('by_year.tsv', 'w') as f:\n",
    "    for x in taxid_gene_info_collected1:\n",
    "        #print x\n",
    "        refseq_id = x[1][0][1].split('.')[0]\n",
    "        if refseq_id not in refgene_dict:\n",
    "            continue\n",
    "        refseq_data = refgene_dict[refseq_id]\n",
    "        #print refseq_data\n",
    "        out_str = \"\\t\".join(map(str, [x[0][0], x[0][1], x[0][2], refseq_id, refseq_data['chrom'],\n",
    "                                  refseq_data['txStart'], refseq_data['txEnd'],\n",
    "                                  x[1][0][0][0], x[1][0][0][1], x[1][0][0][2], x[1][1]]))\n",
    "        f.write(out_str + \"\\n\")\n",
    "        "
   ]
  },
  {
   "cell_type": "code",
   "execution_count": null,
   "metadata": {},
   "outputs": [],
   "source": [
    "taxid_gene_info_all = (taxid_gene_info_refseq_pubmed.map(lambda x: ((x[0][0], x[0][1]), x[1]))\n",
    "                       .reduceByKey(lambda x1,x2: (x1[0], x1[1] + x2[1]))\n",
    "                       )\n",
    "\n",
    "print taxid_gene_info_all.take(1)\n",
    "taxid_gene_info_all_collected = taxid_gene_info_all.collect()"
   ]
  },
  {
   "cell_type": "code",
   "execution_count": null,
   "metadata": {
    "collapsed": true
   },
   "outputs": [],
   "source": [
    "with open('all_gene_counts.tsv', 'w') as f:\n",
    "    for x in taxid_gene_info_all_collected:\n",
    "        #print x\n",
    "        refseq_id = x[1][0][1].split('.')[0]\n",
    "        if refseq_id not in refgene_dict:\n",
    "            continue\n",
    "        refseq_data = refgene_dict[refseq_id]\n",
    "        #print refseq_data\n",
    "        out_str = \"\\t\".join(map(str, [x[0][0], x[0][1], refseq_id, refseq_data['chrom'],\n",
    "                                  refseq_data['txStart'], refseq_data['txEnd'],\n",
    "                                  x[1][0][0][0], x[1][0][0][1], x[1][0][0][2], x[1][1]]))\n",
    "        f.write(out_str + \"\\n\")\n",
    "        "
   ]
  },
  {
   "cell_type": "code",
   "execution_count": null,
   "metadata": {},
   "outputs": [],
   "source": [
    "# head all_gene_counts.tsv > short_all_gene_counts.tsv"
   ]
  },
  {
   "cell_type": "code",
   "execution_count": null,
   "metadata": {
    "collapsed": true
   },
   "outputs": [],
   "source": [
    "import streamgraph"
   ]
  },
  {
   "cell_type": "code",
   "execution_count": null,
   "metadata": {},
   "outputs": [],
   "source": [
    "import pandas as pd\n",
    "sorted_non_protein = pd.read_csv('sorted_non_protein_gene_info_by_year.tsv', names=['taxid', 'geneid', 'year', 'symbol', 'name', 'type', 'citations'],\n",
    "                                delimiter='\\t')\n",
    "sorted_non_protein.head()\n",
    "min_year = min(sorted_non_protein['year'])\n",
    "max_year = max(sorted_non_protein['year'])\n",
    "types = dict([(x,i) for i,x in enumerate(set(sorted_non_protein['type']))])\n",
    "\n",
    "print min_year, max_year\n",
    "print \"types:\", types\n",
    "print sorted_non_protein.head()"
   ]
  },
  {
   "cell_type": "code",
   "execution_count": null,
   "metadata": {
    "collapsed": true
   },
   "outputs": [],
   "source": [
    "import collections as col\n",
    "year_type_counts = col.defaultdict(lambda: col.defaultdict(int))\n",
    "\n",
    "for ix, row in sorted_non_protein.iterrows():\n",
    "    year_type_counts[row['year']][row['type']] += row['citations']"
   ]
  },
  {
   "cell_type": "code",
   "execution_count": null,
   "metadata": {},
   "outputs": [],
   "source": [
    "layers = []\n",
    "\n",
    "for type in types:\n",
    "    type_counts = []\n",
    "    for year in range(min_year, max_year+1):\n",
    "    \n",
    "        type_counts += [year_type_counts[year][type]]\n",
    "    layers += [type_counts]\n",
    "\n",
    "print layers"
   ]
  },
  {
   "cell_type": "code",
   "execution_count": null,
   "metadata": {},
   "outputs": [],
   "source": [
    "import matplotlib.pyplot as pl\n",
    "import numpy as np\n",
    "\n",
    "def symmetric(sorted_streams, stream_bounds):\n",
    "    \"\"\"Symmetric baseline\"\"\"\n",
    "    lb, ub = np.min(stream_bounds[:,0,:],axis=0), np.max(stream_bounds[:,1,:],axis=0)\n",
    "    return .5*(lb+ub)\n",
    "def pos_only(sorted_streams, stream_bounds):\n",
    "    \"\"\"Lumps will only be positive\"\"\"\n",
    "    lb, ub = np.min(stream_bounds[:,0,:],axis=0), np.max(stream_bounds[:,1,:],axis=0)\n",
    "    return lb\n",
    "def zero(sorted_streams, stream_bounds):\n",
    "    \"\"\"Zero baseline\"\"\"\n",
    "    return np.zeros(stream_bounds.shape[2])\n",
    "def min_weighted_wiggles(sorted_streams, stream_bounds):\n",
    "    \"\"\"Baseline recommended by Byron and Wattenberg\"\"\"\n",
    "    lb, ub = np.min(stream_bounds[:,0,:],axis=0), np.max(stream_bounds[:,1,:],axis=0)\n",
    "    weight = ub-lb\n",
    "    \n",
    "    sorted_streams = np.abs(sorted_streams)\n",
    "    for i in xrange(len(sorted_streams)):\n",
    "        sorted_streams[i,:] *= (-1)**i\n",
    "    cusum_f = np.vstack((np.zeros(sorted_streams.shape[1]),\n",
    "                        np.cumsum(sorted_streams[:-1,:], axis=0)))\n",
    "    f_prime = np.diff(sorted_streams, axis=1)\n",
    "    cusum_f_prime = np.diff(cusum_f, axis=1)\n",
    "    g_prime = np.hstack(([0],-np.sum((f_prime*.5  + cusum_f_prime)*sorted_streams[:,1:],axis=0) / weight[1:]))\n",
    "    g_prime[np.where(weight==0)] = 0\n",
    "    g = np.cumsum(g_prime)\n",
    "    \n",
    "    return g\n",
    "    \n",
    "\n",
    "def stacked_graph(streams, cmap=pl.cm.bone, color_seq='linear', \n",
    "                  baseline_fn=min_weighted_wiggles, ax=None, \n",
    "                  labels=None, xvalues=None):\n",
    "    \"\"\"\n",
    "    Produces stacked graphs using matplotlib.\n",
    "    \n",
    "    Reference: 'Stacked graphs- geometry & aesthetics' by Byron and Wattenberg\n",
    "    http://www.leebyron.com/else/streamgraph/download.php?file=stackedgraphs_byron_wattenberg.pdf\n",
    "    \n",
    "    Parameters:\n",
    "      - streams: A list of time-series of positive values. Each element must be of the same length.\n",
    "      - cmap: A matplotlib color map. Defaults to 'bone'.\n",
    "      - colo_seq: 'linear' or 'random'.\n",
    "      - baseline_fn: Current options are symmetric, pos_only, zero and min_weighted_wiggles.\n",
    "    \"\"\"\n",
    "    # Sort by onset times\n",
    "    onset_times = [np.where(np.abs(stream)>0)[0][0] for stream in streams]\n",
    "    order = np.argsort(onset_times)\n",
    "    streams = np.asarray(streams)\n",
    "    if labels is not None:\n",
    "        labels = [labels[i] for i in order]\n",
    "    sorted_streams = streams[order]\n",
    "    \n",
    "    if xvalues is None:\n",
    "        t = np.arange(streams.shape[1])\n",
    "    else:\n",
    "        t = xvalues\n",
    "    \n",
    "    # Establish bounds\n",
    "    stream_bounds = [np.vstack((np.zeros(streams.shape[1]), sorted_streams[0])),\n",
    "                    np.vstack((-sorted_streams[1], (np.zeros(streams.shape[1]))))]\n",
    "    side = -1\n",
    "    for stream in sorted_streams[2:]:\n",
    "        side *= -1\n",
    "        if side==1:\n",
    "            stream_bounds.append(np.vstack((stream_bounds[-2][1], stream_bounds[-2][1]+stream)))\n",
    "        else:\n",
    "            stream_bounds.append(np.vstack((stream_bounds[-2][0]-stream, stream_bounds[-2][0])))\n",
    "            \n",
    "    stream_bounds = np.array(stream_bounds)\n",
    "    \n",
    "    # Compute baseline\n",
    "    baseline = baseline_fn(sorted_streams, stream_bounds)\n",
    "    \n",
    "    print \"streams.shape\", streams.shape\n",
    "    if labels is None:\n",
    "        labels = ['' for i in range(streams.shape[0])]\n",
    "    \n",
    "    # Choose colors\n",
    "    t_poly = np.hstack((t,t[::-1]))\n",
    "    if color_seq=='linear':\n",
    "        colors = np.linspace(0,1,streams.shape[0])\n",
    "    elif color_seq=='random':\n",
    "        colors = np.random.random(size=streams.shape[1])\n",
    "    else:\n",
    "        raise ValueError, 'Color sequence %s unrecognized'%color_seq\n",
    "    \n",
    "    # Plot    \n",
    "    #pl.axis('off') \n",
    "    if ax is None:\n",
    "        fig, ax = plt.subplots()\n",
    "    for i in xrange(len(stream_bounds)):\n",
    "        bound = stream_bounds[i]\n",
    "        color = cmap(colors[i])\n",
    "        ax.fill(t_poly, np.hstack((bound[0]-baseline,(bound[1]-baseline)[::-1])), \n",
    "                facecolor=color, linewidth=0.,edgecolor='none',label=labels[i])\n",
    "        \n",
    "        \n",
    "# Demo\n",
    "if __name__ == '__main__':\n",
    "    pl.clf()\n",
    "    N_dsets = 50\n",
    "    T = 100\n",
    "    amp = 1\n",
    "    fade = .15\n",
    "    dsets = []\n",
    "    for i in xrange(N_dsets):\n",
    "        this_dset = np.zeros(T)\n",
    "        t_onset = np.random.randint(.9*T)-T/3\n",
    "        if t_onset >= 0:   \n",
    "            remaining_t = np.arange(T-t_onset)     \n",
    "        else:\n",
    "            remaining_t = np.arange(T)-t_onset\n",
    "        this_dset[max(t_onset,0):]=np.exp(-.15*np.random.gamma(10,.1)*remaining_t)\\\n",
    "                            * remaining_t * np.random.gamma(6,.2) # * np.cos(-fade*remaining_t*np.random.gamma(10,.1))**2\n",
    "        dsets.append(this_dset)\n",
    "    \n",
    "    stacked_graph(dsets, baseline_fn = min_weighted_wiggles, color_seq='linear')\n"
   ]
  },
  {
   "cell_type": "code",
   "execution_count": null,
   "metadata": {},
   "outputs": [],
   "source": [
    "fig,ax=plt.subplots(figsize=(10,8))\n",
    "stacked_graph(np.array(layers), baseline_fn = symmetric,\n",
    "              cmap=pl.cm.Set2 , color_seq='linear', ax=ax, labels=[t for t in types],\n",
    "             xvalues=range(min_year, max_year+1))\n",
    "\n",
    "handles, labels = ax.get_legend_handles_labels()\n",
    "ax.legend(handles, labels, loc=3)\n",
    "\n",
    "labels = [item.get_text() for item in ax.get_xticklabels()]\n",
    "print \"labels:\", labels\n",
    "#a =  [x for x in range(min_year, max_year, (max_year - min_year) / len(labels))]\n",
    "print \"len a:\", len(layers[0])\n",
    "ax.get_yaxis().set_visible(False)\n",
    "\n",
    "ax.spines['top'].set_visible(False)\n",
    "ax.spines['right'].set_visible(False)\n",
    "ax.spines['left'].set_visible(False)\n",
    "\n",
    "print max_year\n"
   ]
  },
  {
   "cell_type": "markdown",
   "metadata": {},
   "source": [
    "# Genes by year"
   ]
  },
  {
   "cell_type": "code",
   "execution_count": 115,
   "metadata": {},
   "outputs": [
    {
     "name": "stdout",
     "output_type": "stream",
     "text": [
      "1902 2017\n",
      "   taxid  geneid  year    symbol                      name            type  \\\n",
      "0   9606      12  1975  SERPINA3  serpin family A member 3  protein-coding   \n",
      "1   9606      12  1991  SERPINA3  serpin family A member 3  protein-coding   \n",
      "2   9606      12  1987  SERPINA3  serpin family A member 3  protein-coding   \n",
      "3   9606      12  1983  SERPINA3  serpin family A member 3  protein-coding   \n",
      "4   9606      12  1995  SERPINA3  serpin family A member 3  protein-coding   \n",
      "\n",
      "   citations  \n",
      "0          1  \n",
      "1          1  \n",
      "2          2  \n",
      "3          3  \n",
      "4          3  \n"
     ]
    }
   ],
   "source": [
    "import pandas as pd\n",
    "sorted_gene_info = pd.read_csv('gene_info_by_year.tsv', names=['taxid', 'geneid', 'year', 'symbol', 'name', 'type', 'citations'],\n",
    "                                delimiter='\\t')\n",
    "min_year = min(sorted_gene_info['year']) \n",
    "#min_year = 2000\n",
    "max_year = max(sorted_gene_info['year'])\n",
    "\n",
    "print min_year, max_year\n",
    "print sorted_gene_info.head()"
   ]
  },
  {
   "cell_type": "code",
   "execution_count": 117,
   "metadata": {},
   "outputs": [
    {
     "name": "stderr",
     "output_type": "stream",
     "text": [
      "/Users/pkerp/.virtualenvs/stuff/lib/python2.7/site-packages/ipykernel/__main__.py:10: FutureWarning: sort(columns=....) is deprecated, use sort_values(by=.....)\n"
     ]
    }
   ],
   "source": [
    "import collections as col\n",
    "\n",
    "all_genes = set()\n",
    "all_year_genes = col.defaultdict(lambda: col.defaultdict(int))\n",
    "all_decade_genes = col.defaultdict(lambda: col.defaultdict(int))\n",
    "all_genes_citations = col.defaultdict(int)\n",
    "\n",
    "for year in range(min_year, max_year+1):\n",
    "    for ix, row in  (sorted_gene_info[sorted_gene_info['year'] == year]\n",
    "                    .sort('citations', ascending=[False]).iterrows()):\n",
    "        \n",
    "        all_year_genes[year][row['symbol']] = row['citations']\n",
    "        all_genes.add(row['symbol'])\n",
    "        all_decade_genes[year / 10][row['symbol']] += row['citations']\n",
    "        all_genes_citations[row['symbol']] += row['citations']\n",
    "        \n",
    "        \n",
    "with open('all_year_genes.tsv', 'w') as f:\n",
    "    f.write(\"gene\\t{}\\n\".format(\"\\t\".join(map(str, range(min_year, max_year+1)))))\n",
    "\n",
    "    for gene in all_genes:\n",
    "        str_counts = []    \n",
    "        for year in range(min_year, max_year+1):\n",
    "            if gene in all_year_genes[year]:\n",
    "                str_counts += [str(all_year_genes[year][gene])]\n",
    "            else:\n",
    "                str_counts += ['']\n",
    "            #print year / 10, top_half_decades[year / 10]\n",
    "        out_str = \"{gene}\\t{counts}\".format(gene=gene, counts=\"\\t\".join(str_counts))\n",
    "        f.write(out_str + \"\\n\")\n",
    "        #print out_str"
   ]
  },
  {
   "cell_type": "markdown",
   "metadata": {},
   "source": [
    "## Genes by decade"
   ]
  },
  {
   "cell_type": "code",
   "execution_count": null,
   "metadata": {},
   "outputs": [],
   "source": [
    "with open('all_decade_genes.tsv', 'w') as f:\n",
    "    f.write(\"gene\\t{}\\n\".format(\"\\t\".join(map(str, range(min_year, max_year+1, 10)))))\n",
    "    for gene in all_genes:\n",
    "        str_counts = []    \n",
    "        for year in range(min_year, max_year+1, 10):\n",
    "            if gene in all_decade_genes[year / 10]:\n",
    "                str_counts += [str(all_decade_genes[year / 10][gene])]\n",
    "            else:\n",
    "                str_counts += ['']\n",
    "            #print year / 10, top_half_decades[year / 10]\n",
    "        out_str = \"{gene}\\t{counts}\".format(gene=gene, counts=\"\\t\".join(str_counts))\n",
    "        f.write(out_str + \"\\n\")\n",
    "        print out_str"
   ]
  },
  {
   "cell_type": "code",
   "execution_count": null,
   "metadata": {
    "collapsed": true
   },
   "outputs": [],
   "source": [
    "layers = []\n",
    "all_genes = set()\n",
    "top_n = 20\n",
    "\n",
    "# tabulate the top ten genes for each year\n",
    "top_tens = col.defaultdict(lambda: col.defaultdict(int))\n",
    "top_half_decades = col.defaultdict(lambda: col.defaultdict(int))\n",
    "        \n",
    "for year in range(min_year, max_year+1):\n",
    "    for ix, row in  (sorted_gene_info[sorted_gene_info['year'] == year]\n",
    "                    .sort('citations', ascending=[False]).head(top_n).iterrows()):\n",
    "        top_tens[year][row['symbol']] = row['citations']\n",
    "        top_half_decades[year / 10][row['symbol']] += row['citations']\n",
    "        all_genes.add(row['symbol'])\n",
    "    "
   ]
  },
  {
   "cell_type": "code",
   "execution_count": null,
   "metadata": {},
   "outputs": [],
   "source": [
    "stacks = [[0 for i in range(min_year, max_year+1)] for i in range(len(all_genes))]\n",
    "stack_idxs = dict([(x,i) for (i,x) in enumerate(all_genes)])\n",
    "\n",
    "print \"len:\", len(stacks)\n",
    "\n",
    "for i,year in enumerate(range(min_year, max_year+1)):\n",
    "    for gene in top_tens[year]:\n",
    "        #print stack_idxs[gene], stacks[stack_idxs[gene]]\n",
    "        stacks[stack_idxs[gene]][i] = top_tens[year][gene]\n",
    "        all_genes.add(gene)\n",
    "\n",
    "\n",
    "with open('top_ns_year.tsv', 'w') as f:\n",
    "    f.write(\"gene\\t{}\\n\".format(\"\\t\".join(map(str, range(min_year, max_year+1, 10)))))\n",
    "    for gene in all_genes:\n",
    "        str_counts = []    \n",
    "        for year in range(min_year, max_year+1, 10):\n",
    "            if gene in top_half_decades[year / 10]:\n",
    "                str_counts += [str(top_half_decades[year / 10][gene])]\n",
    "            else:\n",
    "                str_counts += ['']\n",
    "            #print year / 10, top_half_decades[year / 10]\n",
    "        out_str = \"{gene}\\t{counts}\".format(gene=gene, counts=\"\\t\".join(str_counts))\n",
    "        f.write(out_str + \"\\n\")\n",
    "        print out_str\n"
   ]
  },
  {
   "cell_type": "code",
   "execution_count": null,
   "metadata": {},
   "outputs": [],
   "source": [
    "fig,ax=plt.subplots(figsize=(10,8))\n",
    "stacked_graph(np.array(stacks), baseline_fn = symmetric,\n",
    "              cmap=pl.cm.Set3 , color_seq='linear', ax=ax, labels=None,\n",
    "             xvalues=range(min_year, max_year+1))\n",
    "\n",
    "handles, labels = ax.get_legend_handles_labels()\n",
    "ax.legend(handles, labels, loc=3)\n",
    "\n",
    "labels = [item.get_text() for item in ax.get_xticklabels()]\n",
    "print \"labels:\", labels\n",
    "#a =  [x for x in range(min_year, max_year, (max_year - min_year) / len(labels))]\n",
    "ax.get_yaxis().set_visible(False)\n",
    "\n",
    "ax.spines['top'].set_visible(False)\n",
    "ax.spines['right'].set_visible(False)\n",
    "ax.spines['left'].set_visible(False)"
   ]
  },
  {
   "cell_type": "markdown",
   "metadata": {},
   "source": [
    "## Count the references\n",
    "\n",
    "For this exercise, the result should be a tsv with the following columns:\n",
    "\n",
    "```\n",
    "<taxId> <geneId> <refSeqID> <citation count>\n",
    "```"
   ]
  },
  {
   "cell_type": "code",
   "execution_count": null,
   "metadata": {},
   "outputs": [],
   "source": [
    "def count_per_year(genbank_dir):\n",
    "    '''\n",
    "    gene2pubmed = (sc.textFile(op.join(genbank_dir, \"gene2pubmed\"))\n",
    "                     .filter(lambda x: x[0] != '#')\n",
    "                     .map(lambda x: x.split('\\t'))\n",
    "                     .map(lambda p: {'taxid': int(p[0]), 'geneid': int(p[1]), 'pmid': int(p[2]), 'count': 1})\n",
    "                     .map(lambda x: ((x['taxid'], x['geneid']), {'count': x['count']}))\n",
    "                     )\n",
    "    '''\n",
    "    pubmed_gene = (sc.textFile(op.join(genbank_dir, \"gene2pubmed\"))\n",
    "                   .filter(lambda x: x[0] != '#')\n",
    "                   .map(lambda x: x.split('\\t'))\n",
    "                   .map(lambda x: (int(x[1]), int(x[0]))\n",
    "                  ))\n",
    "    \n",
    "    pmid_year = (sc.textFile(op.join(genbank_dir, 'pmid_year.ssv'))\n",
    "                 .map(lambda x: x.split())\n",
    "                 .map(lambda x: (int(x[1]), int(x[0].split('-')[0])))\n",
    "                 )\n",
    "    print pmid_year.take(1)\n",
    "    print pubmed_gene.take(1)\n",
    "    \n",
    "    pmid_year_gene = pubmed_gene.join(pmid_year)\n",
    "    return pmid_year_gene\n",
    "    \n",
    "pmid_year_gene = count_per_year(op.join(data_dir, 'genbank-data/'))\n"
   ]
  },
  {
   "cell_type": "code",
   "execution_count": null,
   "metadata": {},
   "outputs": [],
   "source": [
    "def load_gene_counts(genbank_dir):\n",
    "    gene2pubmed = (sc.textFile(op.join(genbank_dir, \"gene2pubmed\"))\n",
    "                     .filter(lambda x: x[0] != '#')\n",
    "                     .map(lambda x: x.split('\\t'))\n",
    "                     .map(lambda p: {'taxid': int(p[0]), 'geneid': int(p[1]), 'pmid': int(p[2]), 'count': 1})\n",
    "                     .map(lambda x: ((x['taxid'], x['geneid']), {'count': x['count']}))\n",
    "                     )\n",
    "    \n",
    "    def reduce_count(r1, r2):\n",
    "        '''\n",
    "        A reduce function that simply counts the number of elements in the table.\n",
    "        \n",
    "        @param r1: A Row\n",
    "        @param r2: A Row\n",
    "        @return: A new Row, equal to the first Row with a summed count.\n",
    "        '''\n",
    "        #print >>sys.stderr, \"r1:\", r1\n",
    "        r1['count'] += r2['count']\n",
    "        return r1\n",
    "\n",
    "    print gene2pubmed.take(1)\n",
    "    reduced_gene2pubmed = gene2pubmed.reduceByKey(reduce_count)\n",
    "    \n",
    "    outfile = get_outfile('taxid-geneid-count')\n",
    "\n",
    "    (reduced_gene2pubmed\n",
    "        .map(lambda x: \"{}\\t{}\\t{}\".format(x[0][0], x[0][1], x[1]['count']))\n",
    "        .saveAsTextFile(outfile)\n",
    "        )\n",
    "    \n",
    "    return reduced_gene2pubmed\n",
    "\n",
    "\n",
    "taxid_geneid_count = load_gene_counts(op.join(data_dir, 'genbank-data/'))\n",
    "print taxid_geneid_count.take(1)"
   ]
  },
  {
   "cell_type": "markdown",
   "metadata": {},
   "source": [
    "## Load the gene2refseq annotations"
   ]
  },
  {
   "cell_type": "code",
   "execution_count": null,
   "metadata": {},
   "outputs": [],
   "source": [
    "def take_one(r1, r2):\n",
    "    return r1\n",
    "\n",
    "def load_refseq2gene(genbank_base_dir):\n",
    "    '''\n",
    "    Get the mapping from refseq IDs to gene IDs\n",
    "    \n",
    "    :param genbank_base_dir: The directory that contains all of the genbank files.\n",
    "    :return: A set of tuples of the form (refseq_id, (taxid, geneid))\n",
    "    '''\n",
    "    gene2refseq = (sc.textFile(op.join(genbank_base_dir, 'gene2refseq'))\n",
    "                   .filter(lambda x: x[0] != '#')\n",
    "                   .map(lambda x: x.split('\\t'))\n",
    "                   .map(lambda p: {'taxid': int(p[0]), 'geneid': int(p[1]), 'refseqid': p[3] })\n",
    "                   .map(lambda x: (x['refseqid'].split('.')[0], (x['taxid'], x['geneid'])))\n",
    "                   )\n",
    "    \n",
    "    def reduce_by_refseq_id(r1, r2):\n",
    "        # because we're just looking for a mapping from geneId to refseqId, we just need to throw\n",
    "        # away single entries with identical refseq ids\n",
    "        return r1\n",
    "    \n",
    "    print gene2refseq.take(10)\n",
    "    refseq2gene = gene2refseq.reduceByKey(take_one)\n",
    "    print refseq2gene.take(1)\n",
    "    \n",
    "    outfile = get_outfile('refseqid-taxid-geneid')\n",
    "\n",
    "    (refseq2gene.map(lambda x: \"{}\\t{}\\t{}\".format(x[0], x[1][0], x[1][1]))\n",
    "         .saveAsTextFile(outfile)\n",
    "    )\n",
    "    return refseq2gene\n",
    "\n",
    "refseqid_taxid_geneid = load_refseq2gene(op.join(data_dir, 'genbank-data'))"
   ]
  },
  {
   "cell_type": "markdown",
   "metadata": {},
   "source": [
    "## Join the reference counts and refseq to geneid translations"
   ]
  },
  {
   "cell_type": "code",
   "execution_count": null,
   "metadata": {},
   "outputs": [],
   "source": [
    "print refseqid_taxid_geneid.take(1)\n",
    "\n",
    "def take_one(r1, r2):\n",
    "    return r1\n",
    "\n",
    "def take_max(r1, r2):\n",
    "    if r1 > r2:\n",
    "        return r1\n",
    "    else:\n",
    "        return r2"
   ]
  },
  {
   "cell_type": "code",
   "execution_count": null,
   "metadata": {},
   "outputs": [],
   "source": [
    "def join_counts_and_ids(refseqid_taxid_geneid, taxid_geneid_count):\n",
    "    taxid_geneid_refseq = refseqid_taxid_geneid.map(lambda x: (x[1], x[0]))\n",
    "    print \"count1:\", taxid_geneid_refseq.count()\n",
    "    taxid_geneid_refseq = taxid_geneid_refseq.reduceByKey(take_one)\n",
    "    print \"count2:\", taxid_geneid_refseq.count()\n",
    "    \n",
    "    \n",
    "    '''    \n",
    "    taxid_geneid_refseq = (sc.textFile(op.join(output_dir, 'genbank-output/refseqid-taxid-geneid'))\n",
    "                   .map(lambda x: x.split())\n",
    "                   .map(lambda x: ((int(x[1]), int(x[2])), x[0]))\n",
    "                        )\n",
    "    '''\n",
    "    print taxid_geneid_refseq.take(1)\n",
    "    \n",
    "    '''\n",
    "    (sc.textFile(op.join(output_dir, 'genbank-output/taxid-geneid-count'))\n",
    "                          .map(lambda x: x.split())\n",
    "                          .map(lambda x: ((int(x[0]), int(x[1])), int(x[2])))\n",
    "                          )\n",
    "    '''\n",
    "    print \"taxid_geneid_count\", taxid_geneid_count.take(1)\n",
    "    print \"1. taxid_geneid_count.count():\", taxid_geneid_count.count()\n",
    "    taxid_geneid_count = taxid_geneid_count.reduceByKey(take_max)\n",
    "    print \"2. taxid_geneid_count.count():\", taxid_geneid_count.count()\n",
    "    \n",
    "    taxid_geneid_count_refseq = taxid_geneid_count.join(taxid_geneid_refseq)\n",
    "    print taxid_geneid_count_refseq.take(1)\n",
    "    print taxid_geneid_count.take(1)\n",
    "    \n",
    "    outfile = get_outfile('taxid-geneid-refseqid-count')\n",
    "\n",
    "    (taxid_geneid_count_refseq.map(lambda x: \"{}\\t{}\\t{}\\t{}\".format(x[0][0],\n",
    "                                                                  x[0][1],\n",
    "                                                                  x[1][1],\n",
    "                                                                  x[1][0]))\n",
    "     .saveAsTextFile(outfile)\n",
    "     )\n",
    "    return taxid_geneid_count_refseq\n",
    "\n",
    "taxid_geneid_count_refseq = join_counts_and_ids(refseqid_taxid_geneid, taxid_geneid_count)"
   ]
  },
  {
   "cell_type": "markdown",
   "metadata": {},
   "source": [
    "## Join the refgene data with the count data"
   ]
  },
  {
   "cell_type": "code",
   "execution_count": null,
   "metadata": {},
   "outputs": [],
   "source": [
    "def join_refgene_and_counts(refGene, taxid_geneid_count_refseq):\n",
    "    '''\n",
    "    Combine the refGene information about the genes with the citation\n",
    "    count information.\n",
    "    '''\n",
    "    refseqid_refgene = refGene.map(lambda x: (x['name'], x))\n",
    "    \n",
    "    print refseqid_refgene.take(1)\n",
    "    \n",
    "    refseqid_count = taxid_geneid_count_refseq.map(lambda x: (x[1][1], x[1][0]))\n",
    "    \n",
    "    print refseqid_count.take(1)\n",
    "    \n",
    "    refseqid_refgene_count = refseqid_refgene.join(refseqid_count)\n",
    "    print refseqid_refgene_count.take(1)\n",
    "    \n",
    "\n",
    "    return refseqid_refgene_count\n",
    "\n",
    "refseqid_refgene_count = join_refgene_and_counts(refGene, taxid_geneid_count_refseq)\n",
    "\n",
    "outfile = get_outfile('refgene-count')\n",
    "(refseqid_refgene_count.map(lambda x: \"{name}\\t{chrom}\\t{strand}\\t{txStart}\\t{txEnd}\\t{genomeTxStart}\\t{genomeTxEnd}\\t{cdsStart}\\t{cdsEnd}\\t{exonCount}\\t{exonStarts}\\t{exonEnds}\\t{geneName}\\t{count}\\t{uid}\"\n",
    "                            .format(count=x[1][1]['count'],uid=shortuuid.uuid(), **x[1][0]))\n",
    " .saveAsTextFile(outfile))"
   ]
  },
  {
   "cell_type": "code",
   "execution_count": null,
   "metadata": {},
   "outputs": [],
   "source": [
    "print refseqid_refgene_count.take(1)"
   ]
  },
  {
   "cell_type": "code",
   "execution_count": null,
   "metadata": {
    "collapsed": true
   },
   "outputs": [],
   "source": [
    "refseqid_refgene_count_plus = refseqid_refgene_count.filter(lambda x: x[1][0]['strand'] == '+')\n",
    "\n",
    "outfile = get_outfile('refgene-count-plus')\n",
    "(refseqid_refgene_count_plus.map(lambda x: \"{name}\\t{chrom}\\t{strand}\\t{txStart}\\t{txEnd}\\t{genomeTxStart}\\t{genomeTxEnd}\\t{cdsStart}\\t{cdsEnd}\\t{exonCount}\\t{exonStarts}\\t{exonEnds}\\t{geneName}\\t{count}\\t{uid}\"\n",
    "                            .format(count=x[1][1]['count'],uid=shortuuid.uuid(), **x[1][0]))\n",
    " .saveAsTextFile(outfile))"
   ]
  },
  {
   "cell_type": "code",
   "execution_count": null,
   "metadata": {
    "collapsed": true
   },
   "outputs": [],
   "source": [
    "refseqid_refgene_count_minus = refseqid_refgene_count.filter(lambda x: x[1][0]['strand'] == '-')\n",
    "\n",
    "outfile = get_outfile('refgene-count-minus')\n",
    "(refseqid_refgene_count_minus.map(lambda x: \"{name}\\t{chrom}\\t{strand}\\t{txStart}\\t{txEnd}\\t{genomeTxStart}\\t{genomeTxEnd}\\t{cdsStart}\\t{cdsEnd}\\t{exonCount}\\t{exonStarts}\\t{exonEnds}\\t{geneName}\\t{count}\\t{uid}\"\n",
    "                            .format(count=x[1][1]['count'],uid=shortuuid.uuid(), **x[1][0]))\n",
    " .saveAsTextFile(outfile))"
   ]
  },
  {
   "cell_type": "markdown",
   "metadata": {},
   "source": [
    "## Run the entire pipeline"
   ]
  },
  {
   "cell_type": "code",
   "execution_count": null,
   "metadata": {},
   "outputs": [],
   "source": [
    "assembly = 'hg19'\n",
    "output_dir = op.join(data_dir, assembly)    # where all of the intermediate output will be stored\n",
    "base_ucsc_dir = op.join(data_dir, 'ucsc-data/{}'.format(assembly))  # where all of the files downloaded from UCSC will be stored\n",
    "\n",
    "cum_chrom_lengths = get_chrom_lengths(base_ucsc_dir)\n",
    "refGene = load_refgene_data(base_ucsc_dir)\n",
    "taxid_geneid_count = load_gene_counts(op.join(data_dir, 'genbank-data/'))\n",
    "refseqid_taxid_geneid = load_refseq2gene(op.join(data_dir, 'genbank-data'))\n",
    "taxid_geneid_count_refseq = join_counts_and_ids(refseqid_taxid_geneid, taxid_geneid_count)\n",
    "refseqid_refgene_count = join_refgene_and_counts(refGene, taxid_geneid_count_refseq)\n",
    "\n",
    "outfile = get_outfile('refgene-count')\n",
    "(refseqid_refgene_count.map(lambda x: \"{name}\\t{chrom}\\t{strand}\\t{txStart}\\t{txEnd}\\t{genomeTxStart}\\t{genomeTxEnd}\\t{cdsStart}\\t{cdsEnd}\\t{exonCount}\\t{exonStarts}\\t{exonEnds}\\t{geneName}\\t{count}\\t{uid}\"\n",
    "                            .format(count=x[1][1]['count'],uid=shortuuid.uuid(), **x[1][0]))\n",
    " .saveAsTextFile(outfile))"
   ]
  },
  {
   "cell_type": "code",
   "execution_count": null,
   "metadata": {},
   "outputs": [],
   "source": [
    "refseqid_refgene_count_plus = refseqid_refgene_count.filter(lambda x: x[1][0]['strand'] == '+')\n",
    "\n",
    "outfile = get_outfile('refgene-count-plus')\n",
    "print outfile\n",
    "print refseqid_refgene_count_plus.take(1)\n",
    "(refseqid_refgene_count_plus.map(lambda x: \"{name}\\t{chrom}\\t{strand}\\t{txStart}\\t{txEnd}\\t{genomeTxStart}\\t{genomeTxEnd}\\t{cdsStart}\\t{cdsEnd}\\t{exonCount}\\t{exonStarts}\\t{exonEnds}\\t{geneName}\\t{count}\\t{uid}\"\n",
    "                            .format(count=x[1][1]['count'],uid=shortuuid.uuid(), **x[1][0]))\n",
    " .saveAsTextFile(outfile))"
   ]
  },
  {
   "cell_type": "code",
   "execution_count": 39,
   "metadata": {},
   "outputs": [
    {
     "name": "stdout",
     "output_type": "stream",
     "text": [
      "/Users/peter/data/hg19/genbank-output/refgene-count-minus\n",
      "[(u'NR_031592', ({'exonEnds': u'10514214', 'geneName': u'MIR1181', 'chromOffset': 2937113968, 'name': u'NR_031592', 'txStart': u'10514133', 'exonCount': u'1', 'strand': u'-', 'cdsEnd': u'10514214', 'genomeTxStart': 2947628101, 'exonStarts': u'10514133', 'cdsStart': u'10514214', 'chrom': u'chr19', 'genomeTxEnd': 2947628182, 'txEnd': u'10514214', 'geneLength': 81}, {'count': 3}))]\n"
     ]
    }
   ],
   "source": [
    "refseqid_refgene_count_plus = refseqid_refgene_count.filter(lambda x: x[1][0]['strand'] == '-')\n",
    "\n",
    "outfile = get_outfile('refgene-count-minus')\n",
    "print outfile\n",
    "print refseqid_refgene_count_plus.take(1)\n",
    "(refseqid_refgene_count_plus.map(lambda x: \"{name}\\t{chrom}\\t{strand}\\t{txStart}\\t{txEnd}\\t{genomeTxStart}\\t{genomeTxEnd}\\t{cdsStart}\\t{cdsEnd}\\t{exonCount}\\t{exonStarts}\\t{exonEnds}\\t{geneName}\\t{count}\\t{uid}\"\n",
    "                            .format(count=x[1][1]['count'],uid=shortuuid.uuid(), **x[1][0]))\n",
    " .saveAsTextFile(outfile))"
   ]
  },
  {
   "cell_type": "code",
   "execution_count": null,
   "metadata": {
    "collapsed": true
   },
   "outputs": [],
   "source": []
  }
 ],
 "metadata": {
  "kernelspec": {
   "display_name": "Python 2",
   "language": "python",
   "name": "python2"
  },
  "language_info": {
   "codemirror_mode": {
    "name": "ipython",
    "version": 2
   },
   "file_extension": ".py",
   "mimetype": "text/x-python",
   "name": "python",
   "nbconvert_exporter": "python",
   "pygments_lexer": "ipython2",
   "version": "2.7.13"
  }
 },
 "nbformat": 4,
 "nbformat_minor": 1
}
